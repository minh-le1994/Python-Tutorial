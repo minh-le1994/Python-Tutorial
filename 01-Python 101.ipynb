{
 "cells": [
  {
   "cell_type": "markdown",
   "metadata": {},
   "source": [
    "# Python 101\n",
    "\n",
    "**Goal:**\n",
    "\n",
    "The goal of the next two hours will be to introduce you to the basics of Python and how to implement a basic machine learning model with the help of python\n",
    "\n",
    "So what you will be able to do after this two hours is:\n",
    "1. You will be able to understand the fundamentals of programming in python.\n",
    "2. You will be able to implement very basic python code to solve easy problems.\n",
    "3. You will get to know libraries, that are commonly used to perform data science tasks with Python.\n",
    "4. You will be able to understand the fundamental and basics steps to create a machine learning model.\n",
    "\n",
    "What you will **not** be able to do:\n",
    "1. You will not be an expert in Python. You will not be able to code perfectly in python and you will also not gain very deep knowledge about python. To do that you need to practice, implement code yourself, let it evaluate by other people and try it out on your own.\n",
    "2. You will not be able to create highly sophisticated machine learning models to solve complicated and real problems. For that you need to put more time into it and learn also about the statistics behind a algorithm and get some intuition for the algorithm to use for a specific problem."
   ]
  },
  {
   "cell_type": "markdown",
   "metadata": {},
   "source": [
    "## Jupyter\n",
    "\n",
    "Project Jupyter is a non-profit, open-source project, born out of the IPython Project in 2014 as it evolved to support interactive data science and scientific computing across all programming languages.\n",
    "\n",
    "## Notebooks\n",
    "- Notebooks are files with the ending `.ipynb`.\n",
    "- A Jupyter Notebook makes the interactive programmin possible and every step of a session can be recorded.\n",
    "- A Jupyter Notebook can be exported to several different data formats.\n",
    "\n",
    "### Kernel\n",
    "A kernel provides programming language support in Jupyter. IPython is the default kernel. Additional kernels include R, Julia, and many more.\n",
    "\n",
    "### Celltypes\n",
    "\n",
    "**Code Cells:**\n",
    "This cells allows you to write new code with syntax highlighting and tab completion. If you run a Code cell the code will be sent to the Kernel of the notebook. The results from the computation will then be displayed in the cells output.\n",
    "\n",
    "**Markdown Cells:**\n",
    "Markdown cells help you to describe your programming process in textform. \n",
    "\n",
    "**Raw Cells:**\n",
    "Raw cells provide a place in which you can write output directly. Raw cells are not evaluated by the notebook. When passed through nbconvert, raw cells arrive in the destination format unmodified. For example, you can type full LaTeX into a raw cell, which will only be rendered by LaTeX after conversion by nbconvert.\n",
    "\n",
    "### Keyboard ShortCuts\n",
    "\n",
    "We have here some shortcuts that might be helpful when working with a Jupyter Notebook. Below you can find the most helpful and common Keyboard Shortcuts.\n",
    "\n",
    "|Description|Keyboard Shortcuts|\n",
    "|:-|:-|\n",
    "|Basic Navigation| `enter`, `up`, `down` |\n",
    "|Run a Cell| `Ctrl` + `Enter`|\n",
    "|Run a Cell, select cell below| `Shift` + `Enter`|\n",
    "|Change Cell Type| `y` (Code Cell), `m` (Markdown Cell), `1` - `6` (Markdown with different level of heading)|\n",
    "|Cell Creation| `a` (Insert Cell above the selected cell), `b` (Insert Cell below the selected cell)|\n",
    "|Cell Editing| `c` (Copy), `x` (Cut), `v` (Paste), `z` (Undonw), `d` (press twice - delete)|\n",
    "|Kernel Operations|`0` (press twice - Restart Kernel)|"
   ]
  },
  {
   "cell_type": "markdown",
   "metadata": {},
   "source": [
    "### Coding Help\n",
    "|Description|Keyboard Shortcuts|\n",
    "|:-|:-|\n",
    "|Tool Tipps| `Shift` + `Tab`, run a cell with `?` before the class or function |\n",
    "|Tab Completion| `Tab`|\n",
    "|view Source Code| run a cell with `??` before the class or function|\n",
    "\n",
    "Further Documentation can be found via `Help`"
   ]
  },
  {
   "cell_type": "code",
   "execution_count": null,
   "metadata": {},
   "outputs": [],
   "source": [
    "#Code Cell to showcase the coding help\n",
    "print"
   ]
  },
  {
   "cell_type": "code",
   "execution_count": null,
   "metadata": {},
   "outputs": [],
   "source": [
    "#Source Code\n",
    "from tensorflow.keras import layers\n",
    "??layers.Dense"
   ]
  },
  {
   "cell_type": "markdown",
   "metadata": {},
   "source": [
    "## Why Python for Machine Learning?\n",
    "\n",
    "<img src=\"Images/PythonPopularity.png\">\n",
    "\n",
    "**Source:** [https://github.blog/2019-01-24-the-state-of-the-octoverse-machine-learning/](https://github.blog/2019-01-24-the-state-of-the-octoverse-machine-learning/)\n",
    "\n",
    "There are several reasons, why Python is so popular for machine learning tasks:\n",
    "\n",
    "**1. Python is easy to learn.**\n",
    "\n",
    "&emsp;\"Hello, World\" in `Java`:\n",
    "```java\n",
    "public class HelloWorld {\n",
    "\n",
    "    public static void main(String[] args) {\n",
    "        System.out.println(\"Hello, World\");\n",
    "    }\n",
    "\n",
    "}\n",
    "```\n",
    "\n",
    "&emsp; \"Hello, World\" in `Python`:\n",
    "```python\n",
    "print(\"Hello, World\")\n",
    "```\n",
    "\n",
    "\n",
    "**2. Python has a big community behind it and a vast majority of libraries you can use to solve the problem you want. Especially the libraries for machine learning related topics have a big support behind them and makes your life way easier to implement machine learning.**\n",
    "\n",
    "&emsp; The code below is an easy example of how a basic neural network with one input layer, one output layer and two hidden layers can be implemented.\n",
    "\n",
    "```python\n",
    "from tensorflow.keras import layers, Sequential\n",
    "\n",
    "model = Sequential()\n",
    "\n",
    "model.add(layers.Dense(128, input_shape= (10,10), activation =\"relu\"))\n",
    "model.add(layers.Dense(64, activation = \"relu\"))\n",
    "model.add(layers.Dense(32, activation = \"relu\"))\n",
    "model.add(layers.Dense(16, activation = \"relu\"))\n",
    "```\n",
    "\n",
    "**3. The big community behind python makes it quite easy to find solutions to certain problems you might encounter when programming.**\n",
    "\n",
    "&emsp; Common Places to find help with coding problems you have:\n",
    "- Python-Forum: https://python-forum.io/ \n",
    "- Stackoverflow: https://stackoverflow.com/\n",
    "- github: https://github.com/\n"
   ]
  },
  {
   "cell_type": "markdown",
   "metadata": {},
   "source": [
    "## Basic Rules when using Python\n",
    "\n",
    "**1. Google is your friend**\n",
    "\n",
    "Before you try to create a code for some operation look up if there is already something existing to do this. The probability is very high that someone already implemented code for the problem you want to solve and the this code will be probably more efficient to compared to the code you want to program.\n",
    "\n",
    "**2. Right Code that is easy to understand**\n",
    "\n",
    "We will not go to deep in this topic. But make sure when you write code that it is also easy understandable for other persons to read your code. There are some common style guidelines for coding in python. The guidelines can be find [here](https://www.python.org/dev/peps/pep-0008/). More information can also be found [here](https://docs.python-guide.org/writing/style/)."
   ]
  },
  {
   "cell_type": "markdown",
   "metadata": {},
   "source": [
    "## Python Basics\n",
    "\n",
    "### Installing packages\n",
    "To install packages you need type into your terminal (in case python is inside you local PATH variable) or into a code cell in a jupyter notebook `pip install packagename` and run this command."
   ]
  },
  {
   "cell_type": "markdown",
   "metadata": {},
   "source": [
    "### Syntax\n",
    "\n",
    "#### Printing\n",
    "You already saw how to print a statement in python. To print something in python just wrap the variable you want to print into the `print()` function."
   ]
  },
  {
   "cell_type": "code",
   "execution_count": null,
   "metadata": {},
   "outputs": [],
   "source": [
    "print(\"Hallo my name is...\")"
   ]
  },
  {
   "cell_type": "markdown",
   "metadata": {},
   "source": [
    "#### Commenting\n",
    "- Comments can be used to explain Python code.\n",
    "- Comments can be used to make the code more readable.\n",
    "- Comments can be used to prevent execution when testing code.\n",
    "\n",
    "There are two ways to add comments to your python code. For a comment in one line just add the symbol `#` before your code. If you want to comment your code over multiple lines you can wrap your comments into the following symbols `\"\"\"\"\"\"`."
   ]
  },
  {
   "cell_type": "code",
   "execution_count": null,
   "metadata": {},
   "outputs": [],
   "source": [
    "# This is a one line comment\n",
    "\n",
    "\"\"\"\n",
    "This is a comment\n",
    "over multiple lines.\n",
    "This will be printed because it is technically a string, but since the string is not assigned to a variable, \n",
    "Python will run it once and then ignore it the further steps.\n",
    "\"\"\"\n",
    "\n",
    "# print(16)\n",
    "# As you can see if I run this cell the command print will not be executed"
   ]
  },
  {
   "cell_type": "markdown",
   "metadata": {},
   "source": [
    "#### Variables\n",
    "\n",
    "Variables are containers to store data values in it. Comparing to other programming languages you don't need to manually declare a variable. A variable is created when a value is assign to it.\n",
    "\n",
    "**How to assign values to variables?**\n",
    "Assigning a value to a variable in python is very easy and can be done with the `=` symbol. "
   ]
  },
  {
   "cell_type": "code",
   "execution_count": null,
   "metadata": {},
   "outputs": [],
   "source": [
    "x = 5\n",
    "y = 10\n",
    "z = \"This is a test\"\n",
    "\n",
    "print(x, y, z)"
   ]
  },
  {
   "cell_type": "markdown",
   "metadata": {},
   "source": [
    "**Rules for Variable Names**\n",
    "- A variable can have a short name (like x and y) or a more descriptive name (age, carname, total_volume). Rules for Python variables:\n",
    "- A variable name must start with a letter or the underscore character\n",
    "- A variable name cannot start with a number\n",
    "- A variable name can only contain alpha-numeric characters and underscores (A-z, 0-9, and _ )\n",
    "- Variable names are case-sensitive (age, Age and AGE are three different variables)"
   ]
  },
  {
   "cell_type": "markdown",
   "metadata": {},
   "source": [
    "#### Data Types in Python\n",
    "\n",
    "A good understand about the different build-in data types in python is very important. Different data types can do different things and have different purposes. For example it is important to transform you data into a numeric form before feeding it as input to a machine learning model.\n",
    "\n",
    "|Category| Data Types | Comment\n",
    "|:-|:-|:-|\n",
    "|Text|`str`||\n",
    "|Numeric|`int`, `float`, `complex`|The complex data type will not be from interest for us.|\n",
    "|Sequence|`list`, `tuple`, `range`||\n",
    "|Map Type|`dict`||\n",
    "|Set Type|`set`, `frozenset`||\n",
    "|Boolean Type|`bool`||\n",
    "|Binary Type|`bytes`, `bytearray`, `memoryview`|You will not need this data types for the further tutorial|\n",
    "\n",
    "To determine the type of a variable you can use the `type` - function. The data type of the variable will be declared automatically by assigning a value to a variable."
   ]
  },
  {
   "cell_type": "code",
   "execution_count": null,
   "metadata": {},
   "outputs": [],
   "source": [
    "x = 5\n",
    "y = \"Analysis Committee\"\n",
    "print(type(x), type(y))"
   ]
  },
  {
   "cell_type": "markdown",
   "metadata": {},
   "source": [
    "You can also specify or change the type of a variable by wrapping it in the respective data type name."
   ]
  },
  {
   "cell_type": "code",
   "execution_count": null,
   "metadata": {},
   "outputs": [],
   "source": [
    "#Changing a integer into a string\n",
    "x = int(5)\n",
    "x = str(5)\n",
    "type(x)"
   ]
  },
  {
   "cell_type": "markdown",
   "metadata": {},
   "source": [
    "##### Numeric\n",
    "- Integers: Whole positive or negative numbers without decimals\n",
    "- Floats: Positive or negative number containing one or more decimals\n",
    "\n",
    "It is possible to convert from floats to integers and vice versa."
   ]
  },
  {
   "cell_type": "code",
   "execution_count": null,
   "metadata": {},
   "outputs": [],
   "source": [
    "#This are integers\n",
    "int_1 = 1\n",
    "int_2 = 2\n",
    "int_3 = 3\n",
    "\n",
    "#This are floats. Note that decimal numbers are separated by a point and not by a comma\n",
    "float_1 = 1.1\n",
    "float_2 = 4.5\n",
    "float_3 = 6"
   ]
  },
  {
   "cell_type": "code",
   "execution_count": null,
   "metadata": {},
   "outputs": [],
   "source": [
    "#Type Conversion\n",
    "x = 5\n",
    "print(f\"x is a interger: {type(x)}, {x}\")\n",
    "\n",
    "x = float(x)\n",
    "print(f\"x ist a float: {type(x)}, {x}\")"
   ]
  },
  {
   "cell_type": "code",
   "execution_count": null,
   "metadata": {},
   "outputs": [],
   "source": [
    "# When a float is converted into a integer you can imagine that the float is just cut until the decimal point. A conversion will not round the number\n",
    "x = 5.8\n",
    "print(f\"x ist a float: {type(x)}, {x}\")\n",
    "x = int(x)\n",
    "print(f\"x ist a integer: {type(x)}, {x}\")"
   ]
  },
  {
   "cell_type": "markdown",
   "metadata": {},
   "source": [
    "**Arithmetic Operations**\n",
    "\n",
    "|Operator|Name|Example|\n",
    "|---|---|---|\n",
    "|+|Addition|x + y|\t\n",
    "|-|Subtraction|x - y|\t\n",
    "|* |Multiplication|x * y|\t\n",
    "|/\t|Division|x / y|\n",
    "|%|Modulus|x % y|\n",
    "|**|Exponentiation|x ** y|"
   ]
  },
  {
   "cell_type": "code",
   "execution_count": null,
   "metadata": {},
   "outputs": [],
   "source": [
    "int_1 + int_2"
   ]
  },
  {
   "cell_type": "code",
   "execution_count": null,
   "metadata": {},
   "outputs": [],
   "source": [
    "#Modulus gives the rest of a division as output\n",
    "x = 9\n",
    "y = 4\n",
    "x%y"
   ]
  },
  {
   "cell_type": "code",
   "execution_count": null,
   "metadata": {},
   "outputs": [],
   "source": [
    "#If you want to overwrite a variable with the result of a arithmetric operation you can do the following:\n",
    "x += y\n",
    "x"
   ]
  },
  {
   "cell_type": "markdown",
   "metadata": {},
   "source": [
    "##### Strings\n",
    "\n",
    "Strings are created with either the symbol `\"\"` or `''`. \n",
    "The character inside a string can be accessed by slicing the string via the index of the character. How to slice can be seen below.\n",
    "\n",
    "Note: The index of a iterable start with 0 and not with one. What a iterable is will be presented later."
   ]
  },
  {
   "cell_type": "code",
   "execution_count": null,
   "metadata": {},
   "outputs": [],
   "source": [
    "x = \"Analysis Committee\"\n",
    "y = 'Analysis Committee'\n",
    "\n",
    "print(type(x), type(y))"
   ]
  },
  {
   "cell_type": "code",
   "execution_count": null,
   "metadata": {},
   "outputs": [],
   "source": [
    "#Slicing of the String to access a certain part of the string\n",
    "#Let's extract the word committee\n",
    "#Normal Slice\n",
    "slice_1 = x[9:19]\n",
    "slice_2 = x[9:] #can be used if we want to slice from a position until the end of the string\n",
    "\n",
    "#Another way to slice is with negative numbers. In this case the slice will count from the end of the string\n",
    "slice_3 = x[-8:]\n",
    "\n",
    "print(slice_1, slice_2, slice_3)\n",
    "\n",
    "#Alternatively we can also write the follwing to extract the word analysis\n",
    "slice_4 = x[:8] #We are slicing until the index 8 of the string\n",
    "print(slice_4)"
   ]
  },
  {
   "cell_type": "markdown",
   "metadata": {},
   "source": [
    "##### Boolean\n",
    "\n",
    "In programming you will need often if a statement or comparison is `True` or `False`. A boolean can have this exact two values and gives us information about if a statement is `True` or `False`. \n",
    "\n",
    "Boolean can be assign directly as value by assigning `True` or `False` to a variable, by wrapping a variable into the function `bool()` or by comparison operators. \n",
    "\n",
    "If `bool()` is used around a variable it will return in most cases `True` when the variable is assigned. Exceptions are empty `strings`, `lists`, `dictionaries`, `tuples` and `sets` and if a variable contains a number equivalent to `0`"
   ]
  },
  {
   "cell_type": "code",
   "execution_count": null,
   "metadata": {},
   "outputs": [],
   "source": [
    "#empty string vs. not empty string\n",
    "str_1 = \"Analysis Committee\"\n",
    "str_2 = \"\"\n",
    "\n",
    "print(f\" String 1 is not empty: {bool(str_1)}\")\n",
    "print(f\" String 2 is not empty: {bool(str_2)}\")"
   ]
  },
  {
   "cell_type": "markdown",
   "metadata": {},
   "source": [
    "**Comparison Operators** compare two values.\n",
    "\n",
    "|Operator|Name|Example|\n",
    "|:-|:-|:-|\n",
    "|==|Equal|x == y|\t\n",
    "|!=|Not equal|x != y|\t\n",
    "|>|Greater than|x > y|\n",
    "|<|Less than|x < y|\t\n",
    "|>=|Greater than or equal to|x >= y|\t\n",
    "|<=|Less than or equal to|x <= y|\n",
    "\n",
    "**Logical Operators** are there to combine conditional statements.\n",
    "\n",
    "|Operator|Description|Example|\n",
    "|---|---|---|\n",
    "|and|Returns True if both statements are true|x < 5 and  x < 10|\n",
    "|or|Returns True if one of the statements is true|x < 5 or x < 4|\n",
    "|not|Reverse the result, returns False if the result is true|not(x < 5 and x < 10)|"
   ]
  },
  {
   "cell_type": "code",
   "execution_count": null,
   "metadata": {},
   "outputs": [],
   "source": [
    "bool_1 = 9 == 8\n",
    "print(bool_1)\n",
    "x = 9\n",
    "y = 9\n",
    "bool_2 = x == y\n",
    "print(bool_2)"
   ]
  },
  {
   "cell_type": "markdown",
   "metadata": {},
   "source": [
    "**Identity operators** are used to compare the objects, not if they are equal, but if they are actually the same object, with the same memory location:\n",
    "\n",
    "|Operator|Description|Example|\n",
    "|---|---|---|\n",
    "|is |Returns True if both variables are the same object|x is y|\t\n",
    "|is not|Returns True if both variables are not the same object|x is not y\n",
    "\n",
    "**Membership operators** are used to test if a sequence is presented in an object:\n",
    "\n",
    "|Operator|Description|Example|\n",
    "|---|---|---|\n",
    "|in |Returns True if a sequence with the specified value is present in the object|x in y|\t\n",
    "not in|Returns True if a sequence with the specified value is not present in the object|x not in y|"
   ]
  },
  {
   "cell_type": "code",
   "execution_count": null,
   "metadata": {},
   "outputs": [],
   "source": [
    "#Identity Operators\n",
    "x = 9\n",
    "y = x\n",
    "z = 9\n",
    "\n",
    "print(x is y)\n",
    "print(x is z)"
   ]
  },
  {
   "cell_type": "code",
   "execution_count": null,
   "metadata": {},
   "outputs": [],
   "source": [
    "#Membership Operators\n",
    "sequence_1 = [\"Analysis Committee\", \"Human Ressouces Committee\", \"Membership Committee\", \"Public Relation Committee\"]\n",
    "\n",
    "print(\"Analysis Committee\" in sequence_1)\n",
    "print(\"Coporate Relation Committee\" in sequence_1)"
   ]
  },
  {
   "cell_type": "markdown",
   "metadata": {},
   "source": [
    "##### Sequences\n",
    "\n",
    "- Lists: A list is a collection which is ordered and changeable. In Python lists are written with square brackets.\n",
    "- Tuple: A Tuple is a collection which is ordered and **unchangeable**. Allows duplicate members."
   ]
  },
  {
   "cell_type": "code",
   "execution_count": null,
   "metadata": {},
   "outputs": [],
   "source": [
    "#Lists\n",
    "\n",
    "list_1 = [1,2,3,4,5,6,7] #List Assignement with square brackets\n",
    "\n",
    "list_1[4] # Access a value in a list by indexing it. Indexing is equivalent to strings. Be aware that the index start at 0\n",
    "\n",
    "list_1[4] = 20 #change a Value in a list\n",
    "print(\"List element:\", list_1[4])\n",
    "print(\"Length:\", len(list_1)) #Get the number of items inside a list"
   ]
  },
  {
   "cell_type": "code",
   "execution_count": null,
   "metadata": {},
   "outputs": [],
   "source": [
    "# Appending a list\n",
    "list_1.append(40) #Appends the whole object\n",
    "print(\"Append one value:\", list_1)\n",
    "\n",
    "# You might get into a situation where you need to expend every value of list to an existing list\n",
    "list_1.append([40,50,60]) # In this situation append will append the whole list as one object\n",
    "print(\"Wrongly appended:\", list_1)\n",
    "\n",
    "list_1 = [1,2,3,4,5,6,7]\n",
    "list_1.extend([40,50,60]) #In this case extend will append the list with each of the elements in the list\n",
    "print(\"Right appended:\", list_1)"
   ]
  },
  {
   "cell_type": "code",
   "execution_count": null,
   "metadata": {},
   "outputs": [],
   "source": [
    "# Remove a item\n",
    "list_1.remove(60)\n",
    "list_1"
   ]
  },
  {
   "cell_type": "code",
   "execution_count": null,
   "metadata": {},
   "outputs": [],
   "source": [
    "#Tupples\n",
    "#Tupples behaving similar to lists with the difference that the they are assigned differently and the items are not changeable\n",
    "tupple_1 = (1,2,3,4,5,6,7)\n",
    "\n",
    "tupple_1[4] = 20 #You get a error message if you try to change the content of a tuple"
   ]
  },
  {
   "cell_type": "markdown",
   "metadata": {},
   "source": [
    "##### Dictionaries\n",
    "\n",
    "A dictionary is a collection which is unordered, changeable and indexed. In Python dictionaries are written with curly brackets, and they have **keys** and **values**."
   ]
  },
  {
   "cell_type": "code",
   "execution_count": null,
   "metadata": {},
   "outputs": [],
   "source": [
    "dict_1 = {\"Name\": \"Minh\", \"Age\": 26, \"City\": \"Berlin\"} #Creating a Dictionary\n",
    "print(\"Curly Brackets\", dict_1)\n",
    "\n",
    "#You can also create a dict using a list of pair tuples\n",
    "\n",
    "dict_2 = dict([(\"Name\", \"Minh\"),(\"Age\", 26), (\"City\", \"Berlin\")])\n",
    "print(\"From tuples\", dict_2)"
   ]
  },
  {
   "cell_type": "code",
   "execution_count": null,
   "metadata": {},
   "outputs": [],
   "source": [
    "#Access a value of a dictionary\n",
    "print(\"Slicing:\", dict_1[\"Name\"]) # You can access a value of a dictionary by writing the corresponding key and square brackets\n",
    "print(\"Get Method:\",dict_1.get(\"Name\")) # Alternatively you can use the get method"
   ]
  },
  {
   "cell_type": "code",
   "execution_count": null,
   "metadata": {},
   "outputs": [],
   "source": [
    "# Change items\n",
    "dict_1[\"Age\"] = 24\n",
    "dict_1"
   ]
  },
  {
   "cell_type": "code",
   "execution_count": null,
   "metadata": {},
   "outputs": [],
   "source": [
    "#Add Items\n",
    "dict_1[\"Hair Color\"] = \"black\"\n",
    "dict_1"
   ]
  },
  {
   "cell_type": "code",
   "execution_count": null,
   "metadata": {},
   "outputs": [],
   "source": [
    "#Remove items\n",
    "dict_1.pop(\"Hair Color\")\n",
    "dict_1"
   ]
  },
  {
   "cell_type": "markdown",
   "metadata": {},
   "source": [
    "#### Indentation\n",
    "\n",
    "Indentation refers to the spaces at the beginning of a code line. Where in other programming languages the indentation in code is for readability only, the indentation in Python is very important.\n",
    "\n",
    "Python uses indentation to indicate a block of code. The indentation is especially important when defining functions, loops, if statements or classes to tell python where each of those constructs begins and ends."
   ]
  },
  {
   "cell_type": "markdown",
   "metadata": {},
   "source": [
    "#### Loops\n",
    "\n",
    "There are two different primary loop commands in python. \n",
    "\n",
    "- `for` - Loop: A for loop is used for iterating over a sequence (that is either a list, a tuple, a dictionary, a set, or a string). With the for loop we can execute a set of statements, once for each item in a list, tuple, set etc.\n",
    "- `while` - Loop: With the while loop we can execute a set of statements as long as a condition is true.\n",
    "\n",
    "Lists, tuples, dictionaries, and sets are all iterable objects. They are iterable containers which you can get an iterator from. The for loop actually creates a iterator from a iterable object and then loops over it. That is why we can loop through this data types directly. \n",
    "Consequencely a object needs to be iterable to use the for loop like in the code below."
   ]
  },
  {
   "cell_type": "code",
   "execution_count": null,
   "metadata": {},
   "outputs": [],
   "source": [
    "i = 0\n",
    "while i <5:\n",
    "    print(i)\n",
    "    i+= 1"
   ]
  },
  {
   "cell_type": "code",
   "execution_count": null,
   "metadata": {},
   "outputs": [],
   "source": [
    "#Loop through an string\n",
    "alphabet = \"ABCDEFGHI\"\n",
    "for character in alphabet:\n",
    "    print(character)"
   ]
  },
  {
   "cell_type": "code",
   "execution_count": null,
   "metadata": {},
   "outputs": [],
   "source": [
    "#Loop over List\n",
    "alphabet = [\"A\", \"B\", \"C\", \"D\"]\n",
    "for character in alphabet:\n",
    "    print(character)"
   ]
  },
  {
   "cell_type": "code",
   "execution_count": null,
   "metadata": {},
   "outputs": [],
   "source": [
    "#Loop over tuple\n",
    "alphabet = (\"A\", \"B\", \"C\", \"D\")\n",
    "for character in alphabet:\n",
    "    print(character)"
   ]
  },
  {
   "cell_type": "code",
   "execution_count": null,
   "metadata": {},
   "outputs": [],
   "source": [
    "#Loop over dictionaries\n",
    "# For dictionaries it is just possible to iterate over the key directly\n",
    "alphabet = {\"A\":1, \"B\":2, \"C\":3, \"D\":4}\n",
    "for key in alphabet:\n",
    "    print(key, alphabet[key])"
   ]
  },
  {
   "cell_type": "code",
   "execution_count": null,
   "metadata": {},
   "outputs": [],
   "source": [
    "# Nonetheless dictionaries have different methods implemented to iterate over both valu and keys\n",
    "for key,value in alphabet.items():\n",
    "    print(key, value)"
   ]
  },
  {
   "cell_type": "markdown",
   "metadata": {},
   "source": [
    "**Helpful Statements in Loops:**\n",
    "- `break`: With the break statement we can stop the loop even if the while condition is true or the for loop is not at its end\n",
    "- `continue`: With the continue statement we can stop the current iteration, and continue with the next\n",
    "- `else`: With the else statement we can run a block of code once when the loop is finished"
   ]
  },
  {
   "cell_type": "code",
   "execution_count": null,
   "metadata": {},
   "outputs": [],
   "source": [
    "#Break Statement\n",
    "alphabet = [\"A\", \"B\", \"C\", \"D\"]\n",
    "for character in alphabet:\n",
    "    print(character)\n",
    "    if character == \"B\":\n",
    "        print(\"Break the loop\")\n",
    "        break"
   ]
  },
  {
   "cell_type": "code",
   "execution_count": null,
   "metadata": {},
   "outputs": [],
   "source": [
    "#Continue Statement\n",
    "alphabet = [\"A\", \"B\", \"C\", \"D\"]\n",
    "for character in alphabet:\n",
    "    if character == \"B\":\n",
    "        print(\"Skip letter\", character)\n",
    "        continue\n",
    "    print(character)"
   ]
  },
  {
   "cell_type": "code",
   "execution_count": null,
   "metadata": {},
   "outputs": [],
   "source": [
    "#Continue Statement\n",
    "alphabet = [\"A\", \"B\", \"C\", \"D\"]\n",
    "for character in alphabet:\n",
    "    print(character)\n",
    "else:\n",
    "    print(\"Loop is finished\")"
   ]
  },
  {
   "cell_type": "markdown",
   "metadata": {},
   "source": [
    "#### If and Else Statements\n",
    "\n",
    "`if` and `else` statements are used in programming to evaluate certain conditions. A `if` statements gets a boolean and based on the value of the boolean the code inside the if statement will be exceuted or skipped. If the boolean is `True` the code will be executed. Additionally you also have a `else` statement. In case the boolean is `False` the code under the `if` statement will be skipped and the code in under the `else` statement will be executed. To include several conditions you can also use the `elif` statement. "
   ]
  },
  {
   "cell_type": "code",
   "execution_count": null,
   "metadata": {},
   "outputs": [],
   "source": [
    "#Simple if else\n",
    "y = 1\n",
    "x = 2\n",
    "\n",
    "if x < y:\n",
    "    print(\"X is smaller than y.\")\n",
    "else: \n",
    "    print(\"X is bigger than y.\")"
   ]
  },
  {
   "cell_type": "code",
   "execution_count": null,
   "metadata": {},
   "outputs": [],
   "source": [
    "#If else with several conditions\n",
    "x = 1\n",
    "y = 2\n",
    "z = 3\n",
    "\n",
    "if x < y:\n",
    "    print(\"X is smaller than y.\")\n",
    "elif x < z:\n",
    "    print(\"X is smalle than z but bigger than y.\")\n",
    "else: \n",
    "    print(\"X is bigger than y and z.\")"
   ]
  },
  {
   "cell_type": "markdown",
   "metadata": {},
   "source": [
    "**Short Hand If  Else**\n",
    "\n",
    "If you have only one statement to execute, one for `if`, and one for `else`, you can put it all on the same line"
   ]
  },
  {
   "cell_type": "code",
   "execution_count": null,
   "metadata": {},
   "outputs": [],
   "source": [
    "print(\"X is smaller than y.\") if x < y else print(\"X is bigger than y.\")"
   ]
  },
  {
   "cell_type": "markdown",
   "metadata": {},
   "source": [
    "#### Functions\n",
    "\n",
    "A function is a block of code which only runs when it is called. You can pass data, known as arguments, into a function. A function can return data as a result. a function is created with the `def` statement, followed by the name of the function and than the arguments you want to pass to the funciton.\n",
    "\n",
    "Functions are used when you have operations in your code which are repeated several times to keep your code as neat as possible.\n",
    "By default your functions needs to be called with the number of arguments defined in your function."
   ]
  },
  {
   "cell_type": "code",
   "execution_count": null,
   "metadata": {},
   "outputs": [],
   "source": [
    "#Create a function\n",
    "def print_my_name():\n",
    "    print(\"Minh\")"
   ]
  },
  {
   "cell_type": "code",
   "execution_count": null,
   "metadata": {},
   "outputs": [],
   "source": [
    "print_my_name()"
   ]
  },
  {
   "cell_type": "code",
   "execution_count": null,
   "metadata": {},
   "outputs": [],
   "source": [
    "# To make the function more flexible we will pass arguments to it\n",
    "def print_my_name_flex(name):\n",
    "    print(name)"
   ]
  },
  {
   "cell_type": "code",
   "execution_count": null,
   "metadata": {},
   "outputs": [],
   "source": [
    "print_my_name_flex(\"Minh\")"
   ]
  },
  {
   "cell_type": "markdown",
   "metadata": {},
   "source": [
    "If you don't use the keywords defined in the function you need to give in the arguments in the same order like defined in the the function. Alternatively you can specify which value belongs to which argument when calling the function."
   ]
  },
  {
   "cell_type": "code",
   "execution_count": null,
   "metadata": {},
   "outputs": [],
   "source": [
    "def print_my_name(name, age):\n",
    "    print(name)"
   ]
  },
  {
   "cell_type": "code",
   "execution_count": null,
   "metadata": {},
   "outputs": [],
   "source": [
    "print_my_name(26, \"Minh\")"
   ]
  },
  {
   "cell_type": "code",
   "execution_count": null,
   "metadata": {},
   "outputs": [],
   "source": [
    "print_my_name(age =26, name=\"Minh\")"
   ]
  },
  {
   "cell_type": "markdown",
   "metadata": {},
   "source": [
    "If you do not know how many arguments that will be passed into your function, add a `*` before the parameter name in the function definition."
   ]
  },
  {
   "cell_type": "code",
   "execution_count": null,
   "metadata": {},
   "outputs": [],
   "source": [
    "def print_my_name(*names):\n",
    "    print(names[2])"
   ]
  },
  {
   "cell_type": "code",
   "execution_count": null,
   "metadata": {},
   "outputs": [],
   "source": [
    "print_my_name(\"Elif\", \"Anouar\", \"Minh\")"
   ]
  },
  {
   "cell_type": "markdown",
   "metadata": {},
   "source": [
    "If you do not know how many keyword arguments that will be passed into your function, add two asterisk: `**` before the parameter name in the function definition."
   ]
  },
  {
   "cell_type": "code",
   "execution_count": null,
   "metadata": {},
   "outputs": [],
   "source": [
    "def print_my_name(**personaldata):\n",
    "    print(personaldata[\"name\"])"
   ]
  },
  {
   "cell_type": "code",
   "execution_count": null,
   "metadata": {},
   "outputs": [],
   "source": [
    "print_my_name(name = \"Minh\", age = 26)"
   ]
  },
  {
   "cell_type": "markdown",
   "metadata": {},
   "source": [
    "**Return Value**\n",
    "\n",
    "You can let you function return a value by using the `return` statement. This is helpful when your functions returns several operations and when you want to assigne this results to a specific variable."
   ]
  },
  {
   "cell_type": "code",
   "execution_count": null,
   "metadata": {},
   "outputs": [],
   "source": [
    "def my_name(**personaldata):\n",
    "    return personaldata[\"name\"]"
   ]
  },
  {
   "cell_type": "code",
   "execution_count": null,
   "metadata": {},
   "outputs": [],
   "source": [
    "name = my_name(name = \"Minh\", age = 26)\n",
    "name"
   ]
  },
  {
   "cell_type": "markdown",
   "metadata": {},
   "source": [
    "**Default Values**\n",
    "\n",
    "Functions can also have default values for some arguments. It is important that the arguments without default values are listed first when defining the function.\n",
    "Default arguments can be overwritten by specifying this argument with a new value when calling the function"
   ]
  },
  {
   "cell_type": "code",
   "execution_count": null,
   "metadata": {},
   "outputs": [],
   "source": [
    "#Wrongly defined function\n",
    "def my_name(name = \"Elif\", age):\n",
    "    return name"
   ]
  },
  {
   "cell_type": "code",
   "execution_count": null,
   "metadata": {},
   "outputs": [],
   "source": [
    "def my_name(age, name = \"Elif\"):\n",
    "    return name"
   ]
  },
  {
   "cell_type": "code",
   "execution_count": null,
   "metadata": {},
   "outputs": [],
   "source": [
    "name = my_name(26)\n",
    "name"
   ]
  },
  {
   "cell_type": "code",
   "execution_count": null,
   "metadata": {},
   "outputs": [],
   "source": [
    "name = my_name(26, \"Minh\")\n",
    "name"
   ]
  },
  {
   "cell_type": "markdown",
   "metadata": {},
   "source": [
    "#### Objects/Classes\n",
    "\n",
    "Python is an object oriented programming language. Almost everything in Python is an object, with its properties and methods. A `class` is like an object constructor, or a \"blueprint\" for creating objects.\n",
    "\n",
    "We will not go to deep into how to create classes here, but a basic understanding of objects/classes makes you life especially at the beginning easier.\n",
    "\n",
    "A objects has attributes and methods. Attributes can be seen as the properties of a certain objects. If you create, for example, a object called `Human`. The attributes of this object can then be, for example, `eye colour`, `Height`, `Age` and so on. \n",
    "\n",
    "Methods on the other side are procedures/actions the object can perform. For example a method for the object `human` would be `walking`, `sleeping`, `sitting`.\n",
    "\n",
    "In python methods are basically functions. The difference is that methods are function inside objects. The function can be used for the objects specifically and can just be called via the object.\n",
    "\n",
    "An object is created when a class is assigned to a variable with the needed arguments."
   ]
  },
  {
   "cell_type": "code",
   "execution_count": null,
   "metadata": {},
   "outputs": [],
   "source": [
    "#Example Class Human\n",
    "class human():\n",
    "    \n",
    "    #Attributes which are common for every human are created outside of the __init__ method\n",
    "    self.species = \"Homo Sapiens\"\n",
    "    \n",
    "    \n",
    "    #This is needed to initialize the object\n",
    "    # Words with the format __name__ are called dunder or magic functions in python\n",
    "    # Self is used to referent to the object which is created\n",
    "    def __init__(self, name, age, eye_color, gender, city, standing = False):\n",
    "        #Attributes can be defined by calling self.attributname and then by assigning a value to it\n",
    "        #Attributes in the __init__ method are usually attributes which are flexible for every new created object with the human object as base\n",
    "        self.name = name\n",
    "        self.age = age\n",
    "        self.eye_color = eye_color\n",
    "        self.gender = gender\n",
    "        self.city = city\n",
    "        self.standing = standing\n",
    "    \n",
    "    #Methods are defined like functions\n",
    "    #Self needs to be passed so that the object knows that it performs the method on itself\n",
    "    def stand_up(self):\n",
    "        self.standing = True\n",
    "        \n",
    "    def sit_down(self):\n",
    "        self.standing = False\n",
    "        \n",
    "    def introduce(self):\n",
    "        print(f\"Hello my name is {self.name}.\")\n",
    "        \n",
    "    def get_city(self):\n",
    "        return self.city\n",
    "        "
   ]
  },
  {
   "cell_type": "code",
   "execution_count": null,
   "metadata": {},
   "outputs": [],
   "source": [
    "minh = human(\"Minh\", 26, \"Black\", \"Gender\", \"Berlin\")\n",
    "minh.introduce()"
   ]
  },
  {
   "cell_type": "code",
   "execution_count": null,
   "metadata": {},
   "outputs": [],
   "source": [
    "#Access the properties of the object by calling the object add a point and then the property you want\n",
    "minh.standing"
   ]
  },
  {
   "cell_type": "code",
   "execution_count": null,
   "metadata": {},
   "outputs": [],
   "source": [
    "#Methods are used in the exact same way like attributes, just with the difference that they end with brackets\n",
    "#As you can see the stand_up.method() change the value of the attribute standing.\n",
    "minh.stand_up()\n",
    "minh.standing"
   ]
  },
  {
   "cell_type": "code",
   "execution_count": null,
   "metadata": {},
   "outputs": [],
   "source": [
    "#You can also add attributes to the object which are not defined in the class constructor\n",
    "#Let's add height to my object\n",
    "minh.height = 170"
   ]
  },
  {
   "cell_type": "code",
   "execution_count": null,
   "metadata": {},
   "outputs": [],
   "source": [
    "minh.height"
   ]
  },
  {
   "cell_type": "code",
   "execution_count": null,
   "metadata": {},
   "outputs": [],
   "source": [
    "#Methods can also return values.\n",
    "#Let's get the home city of the object\n",
    "\n",
    "minh.get_city()"
   ]
  }
 ],
 "metadata": {
  "kernelspec": {
   "display_name": "Python 3",
   "language": "python",
   "name": "python3"
  },
  "language_info": {
   "codemirror_mode": {
    "name": "ipython",
    "version": 3
   },
   "file_extension": ".py",
   "mimetype": "text/x-python",
   "name": "python",
   "nbconvert_exporter": "python",
   "pygments_lexer": "ipython3",
   "version": "3.7.6"
  }
 },
 "nbformat": 4,
 "nbformat_minor": 4
}
